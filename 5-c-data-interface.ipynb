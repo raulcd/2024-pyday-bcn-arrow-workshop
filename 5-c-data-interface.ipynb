{
 "cells": [
  {
   "cell_type": "markdown",
   "id": "c266ede9-b80a-468b-a56f-3bbe989afbf4",
   "metadata": {},
   "source": [
    "# The Arrow C Data Interface\n",
    "\n",
    "Up to now we have focused on explaining the Arrow columnar memory layout and showing you examples of it using `pyarrow` and `nanoarrow`. But this memory layout is meant to be a universal standard for tabular data, not tied to a specific implementation.\n",
    "\n",
    "While there are specifications to share Arrow data between processes or over the network (e.g. the IPC messages), the **Arrow C Data Interface** is meant to actually zero-copy share the data between different libraries *within the same process* (i.e. actually share the same buffers in memory).\n",
    "\n",
    "The Arrow C Data Interface defines a set of small C structures\n",
    "\n",
    "```c\n",
    "struct ArrowSchema {\n",
    "  const char* format;\n",
    "  const char* name;\n",
    "  const char* metadata;\n",
    "  int64_t flags;\n",
    "  int64_t n_children;\n",
    "  struct ArrowSchema** children;\n",
    "  struct ArrowSchema* dictionary;\n",
    "\n",
    "  // Release callback\n",
    "  void (*release)(struct ArrowSchema*);\n",
    "  // Opaque producer-specific data\n",
    "  void* private_data;\n",
    "};\n",
    "\n",
    "struct ArrowArray {\n",
    "  int64_t length;\n",
    "  int64_t null_count;\n",
    "  int64_t offset;\n",
    "  int64_t n_buffers;\n",
    "  int64_t n_children;\n",
    "  const void** buffers;\n",
    "  struct ArrowArray** children;\n",
    "  struct ArrowArray* dictionary;\n",
    "\n",
    "  // Release callback\n",
    "  void (*release)(struct ArrowArray*);\n",
    "  // Opaque producer-specific data\n",
    "  void* private_data;\n",
    "};\n",
    "```\n",
    "\n",
    "\n",
    "The C Data Interface passes Arrow data buffers through memory pointers. So, by construction, it allows you to share data from one runtime to another without copying it. Since the data is in standard Arrow in-memory format, its layout is well-defined and unambiguous.\n",
    "\n",
    "And in the examples up to now, when we created a `nanoarrow.Array` from a `pyarrow` array (or vice versa), we were actually using the Arrow C Data Interface to share the data zero-copy under the hood (and you might recognize the structure members from the nanoarrow display we have been using to inspect our data). \n",
    "Similarly, other libraries like polars, duckdb, datafusion, reticulate (connect R and python), ... are all leveraging the Arrow C Data Interface to interchange data zero-copy.\n",
    "\n",
    "## Arrow PyCapsule Interface\n",
    "\n",
    "While the Arrow C data interface specify how to share the data at the C(FFI) level, it doesn't specify how Python libraries should expose these structs to other libraries. That's where the [**Arrow PyCapsule Interface**](https://arrow.apache.org/docs/format/CDataInterface/PyCapsuleInterface.html) comes into the picture, which standardizes the usage of `PyCapsule` objects to share those structs at the Python level and the protocol methods (`__arrow_c_array__` et al) to export those capsules.\n",
    "\n",
    "When we pass the `pyarrow.Array` object to the `nanoarrow.array()` function, schematically the following happens:\n",
    "\n",
    "```python\n",
    "def array_from_arrow(obj):\n",
    "    \"\"\"\n",
    "    Function to coerce any Arrow-compatible array object into\n",
    "    and array of my own library.\n",
    "    \"\"\"\n",
    "    # 1. check if the passed object has the protocol method that signals it can export\n",
    "    #    itself as Arrow data\n",
    "    if hasattr(obj, \"__arrow_c_array__\"):\n",
    "        # 2. call the protocol method, which returns to PyCapsule objects (one describing\n",
    "        #    the schema (data type), and one describing the array data)\n",
    "        schema_capsule, array_capsule = obj.__arrow_c_array__()\n",
    "\n",
    "        # 3. extract the pointer to the C struct from the PyCapsule, and pass it to\n",
    "        #    a lower-level function that can read the Arrow data and coerce it into a\n",
    "        #    data structure of your own library\n",
    "        # example for nanoarrow\n",
    "        return na.clib.CArray._import_from_c_capsule(schema_capsule, array_capsule)\n",
    "    ...\n",
    "```\n",
    "\n",
    "This way, we can import the data of any input that supports this protocol, not just objects from the pyarrow library."
   ]
  },
  {
   "cell_type": "markdown",
   "id": "9db6f001-4a3e-4d1b-bae9-429c6699d76d",
   "metadata": {},
   "source": [
    "Example to \"prove\" that this conversion happens zero-copy:"
   ]
  },
  {
   "cell_type": "code",
   "execution_count": null,
   "id": "5308e069-ffb1-4dd0-937f-4d6a71b4ea0c",
   "metadata": {},
   "outputs": [],
   "source": [
    "import numpy as np\n",
    "import pyarrow as pa\n",
    "import nanoarrow as na"
   ]
  },
  {
   "cell_type": "code",
   "execution_count": null,
   "id": "e6a950a9-c761-4c76-b418-7e84c69b4cbc",
   "metadata": {},
   "outputs": [],
   "source": [
    "pyarrow_arr = pa.array([\"some\", \"random\", None, \"strings\"])\n",
    "pyarrow_arr"
   ]
  },
  {
   "cell_type": "code",
   "execution_count": null,
   "id": "dee87f9b-fc56-4dfa-884b-c00b6b9b4004",
   "metadata": {},
   "outputs": [],
   "source": [
    "nanoarrow_arr = na.array(pyarrow_arr)\n",
    "nanoarrow_arr"
   ]
  },
  {
   "cell_type": "code",
   "execution_count": null,
   "id": "bea3c396-479f-4774-a91a-5b98105ce5fb",
   "metadata": {},
   "outputs": [],
   "source": [
    "numpy_array_data = np.asarray(pyarrow_arr.buffers()[2])"
   ]
  },
  {
   "cell_type": "code",
   "execution_count": null,
   "id": "c2b682cd-7f3f-4fbd-b4b7-a1606f7206ad",
   "metadata": {},
   "outputs": [],
   "source": [
    "numpy_array_data[0:4] = int.from_bytes(b\"!\")"
   ]
  },
  {
   "cell_type": "code",
   "execution_count": null,
   "id": "a3f25be8-4360-4cf7-b841-9c95ca066df5",
   "metadata": {},
   "outputs": [],
   "source": [
    "pyarrow_arr"
   ]
  },
  {
   "cell_type": "code",
   "execution_count": null,
   "id": "86e6b804-e755-494a-80da-4c637e4d4c5e",
   "metadata": {},
   "outputs": [],
   "source": [
    "nanoarrow_arr"
   ]
  }
 ],
 "metadata": {
  "kernelspec": {
   "display_name": "Python 3 (ipykernel)",
   "language": "python",
   "name": "python3"
  },
  "language_info": {
   "codemirror_mode": {
    "name": "ipython",
    "version": 3
   },
   "file_extension": ".py",
   "mimetype": "text/x-python",
   "name": "python",
   "nbconvert_exporter": "python",
   "pygments_lexer": "ipython3",
   "version": "3.12.3"
  }
 },
 "nbformat": 4,
 "nbformat_minor": 5
}
