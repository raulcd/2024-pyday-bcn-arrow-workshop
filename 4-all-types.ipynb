{
 "cells": [
  {
   "cell_type": "markdown",
   "id": "bc989a93-fcff-4364-875c-1708a4eaa7d4",
   "metadata": {},
   "source": [
    "## All types\n",
    "\n",
    "In the previous notebooks, we already encountered several types supported by the Arrow Columnar format while illustrating the physical layouts, but there are several more:\n",
    "\n",
    "![image info](./diagrams/all-types.svg)"
   ]
  },
  {
   "cell_type": "markdown",
   "id": "c808d7ce-165c-4232-ba90-e70ef2b828c0",
   "metadata": {},
   "source": [
    "## Extension Types\n",
    "\n",
    "In case the system or application needs to extend standard Arrow data types with custom semantics this is enabled by defining **extension types** or **user-defined** types.\n",
    "\n",
    "For example:\n",
    "\n",
    "* Latitude-Longitude represented as `struct<latitude: double, longitude: double>`, and empty metadata\n",
    "* Trading time can be represented as a `Timestamp` with metadata indicating the market trading calendar\n",
    "\n",
    "Extension types can be defined by annotating any of the built-in Arrow logical types (the “storage type”) with a **custom type name** and **optional serialized representation** (`'ARROW:extension:name'` and `'ARROW:extension:metadata'` keys in the `Field` metadata structure).\n",
    "\n",
    "Source: https://arrow.apache.org/docs/dev/format/Columnar.html#extension-types"
   ]
  },
  {
   "cell_type": "markdown",
   "id": "1ad62ab8-0659-4078-8ccd-a6bedba42f0d",
   "metadata": {},
   "source": [
    "### Canonical Extension Types\n",
    "\n",
    "It is beneficial to share the definitions of well-known extension types so as to improve interoperability between different systems integrating Arrow columnar data. For this reason canonical extension types are defined in Arrow itself.\n",
    "\n",
    "Examples:\n",
    "\n",
    "* Fixed, variable shape tensor, JSON, UUID\n",
    "  - https://arrow.apache.org/docs/dev/format/CanonicalExtensions.html#fixed-shape-tensor\n",
    "  - https://arrow.apache.org/docs/dev/format/CanonicalExtensions.html#variable-shape-tensor\n",
    "  - https://arrow.apache.org/docs/dev/format/CanonicalExtensions.html#json\n",
    "  - https://arrow.apache.org/docs/dev/format/CanonicalExtensions.html#uuid\n",
    "\n",
    "Source: https://arrow.apache.org/docs/dev/format/CanonicalExtensions.html#"
   ]
  },
  {
   "cell_type": "markdown",
   "id": "0bbc5f2e-cd02-40c9-8a90-470d589d07bb",
   "metadata": {},
   "source": [
    "### Community Extension Types\n",
    "\n",
    "These are Arrow extension types that have been established as standards within specific domain areas.\n",
    "\n",
    "Example:\n",
    "\n",
    "* GeoArrow : collection of Arrow extension types for representing vector geometries\n",
    "  - https://github.com/geoarrow/geoarrow\n",
    "\n",
    "  ```python\n",
    "  PointArray:PointType(geoarrow.point)[3]\n",
    "  <POINT (1 3)>\n",
    "  <POINT (2 4)>\n",
    "  <POINT (3 5)>\n",
    "  ```"
   ]
  },
  {
   "cell_type": "markdown",
   "id": "9ab0f29f-eb23-4918-bdd9-c7a71d27e8bd",
   "metadata": {},
   "source": [
    "### Subclassing ExtensionType from Python\n",
    "\n",
    "Defining extension types from Python is done by subclassing pyarrow [`ExtensionType`](https://arrow.apache.org/docs/dev/python/generated/pyarrow.ExtensionType.html#pyarrow.ExtensionType) and giving the derived class its own extension name and serialization mechanism.\n",
    "\n",
    "RationalType example:\n",
    "\n",
    "```python\n",
    "class RationalType(pa.ExtensionType):\n",
    "\n",
    "    def __init__(self, data_type: pa.DataType):\n",
    "        if not pa.types.is_integer(data_type):\n",
    "            raise TypeError(f\"data_type must be an integer type not {data_type}\")\n",
    "        super().__init__(\n",
    "            pa.struct(\n",
    "                [\n",
    "                    (\"numer\", data_type),\n",
    "                    (\"denom\", data_type),\n",
    "                ],\n",
    "            ),\n",
    "            # N.B. This name does _not_ reference `data_type` so deserialization\n",
    "            # will work for _any_ integer `data_type` after registration\n",
    "            \"my_package.rational\",\n",
    "        )\n",
    "\n",
    "    def __arrow_ext_serialize__(self) -> bytes:\n",
    "        # No parameters are necessary\n",
    "        return b\"\"\n",
    "\n",
    "    @classmethod\n",
    "    def __arrow_ext_deserialize__(cls, storage_type, serialized):\n",
    "        # return an instance of this subclass\n",
    "        return RationalType(storage_type[0].type)\n",
    "```"
   ]
  },
  {
   "cell_type": "markdown",
   "id": "76366408-23a2-4168-be4d-5b65c88de26a",
   "metadata": {},
   "source": [
    "# Overview of Arrow terminology\n",
    "\n",
    "### Buffer\n",
    "\n",
    "A contiguous region of memory with a given length. Buffers are used to store data for arrays.\n",
    "\n",
    "### Array\n",
    "\n",
    "A contiguous, one-dimensional sequence of values with known length where all values have the same type. An array consists of zero or more buffers.\n",
    "\n",
    "### Chunked Array*\n",
    "\n",
    "A discontiguous, one-dimensional sequence of values with known length where all values have the same type. Consists of zero or more arrays, the “chunks”.\n",
    "\n",
    "*Note: this is a concept specific to certain implementations such as Arrow C++ and PyArrow.\n",
    "\n",
    "### RecordBatch\n",
    "\n",
    "A contiguous, two-dimensional data structure which consist of ordered collection of arrays of the same length.\n",
    "\n",
    "### Schema\n",
    "\n",
    "A collection of fields with optional metadata that determines all the data types of an object like a record batch or table.\n",
    "\n",
    "### Table*\n",
    "\n",
    "A discontiguous, two-dimensional chunk of data consisting of an ordered collection of chunked arrays. All chunked arrays have the same length, but may have different types. Different columns may be chunked differently.\n",
    "\n",
    "![image info](./diagrams/tables-versus-record-batches.svg)\n",
    "\n",
    "*Note: this is a concept specific to certain implementations such as Arrow C++ and PyArrow.\n",
    "\n",
    "\n",
    "For more details, check the **Arrow Glossary**: https://arrow.apache.org/docs/dev/format/Glossary.html"
   ]
  }
 ],
 "metadata": {
  "kernelspec": {
   "display_name": "Python 3 (ipykernel)",
   "language": "python",
   "name": "python3"
  },
  "language_info": {
   "codemirror_mode": {
    "name": "ipython",
    "version": 3
   },
   "file_extension": ".py",
   "mimetype": "text/x-python",
   "name": "python",
   "nbconvert_exporter": "python",
   "pygments_lexer": "ipython3",
   "version": "3.12.3"
  }
 },
 "nbformat": 4,
 "nbformat_minor": 5
}
