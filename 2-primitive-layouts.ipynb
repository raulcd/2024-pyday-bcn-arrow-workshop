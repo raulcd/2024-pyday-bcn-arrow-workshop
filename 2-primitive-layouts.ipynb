{
 "cells": [
  {
   "cell_type": "markdown",
   "id": "7ad2f271-8dac-47fd-981f-f670f25977f1",
   "metadata": {},
   "source": [
    "# Primitive layouts"
   ]
  },
  {
   "cell_type": "code",
   "execution_count": null,
   "id": "d6de9368-eed8-49a2-8d55-e6b4ffc5c49c",
   "metadata": {},
   "outputs": [],
   "source": [
    "import numpy as np\n",
    "import nanoarrow as na\n",
    "import pyarrow as pa"
   ]
  },
  {
   "cell_type": "markdown",
   "id": "bc4d4ce7-ff33-4b0a-9235-b943fee8c1f9",
   "metadata": {},
   "source": [
    "## Fixed Size Primitive Layout\n",
    "\n",
    "A primitive value array represents an array of values where each value has the same physical size measured in bytes.\n",
    "\n",
    "![](diagrams/primitive-diagram.svg)\n",
    "\n",
    "For example a primitive array of int32s (4 bytes per value):"
   ]
  },
  {
   "cell_type": "code",
   "execution_count": null,
   "id": "53dd30c6-9675-4738-b91f-9d9cf00b4a2f",
   "metadata": {},
   "outputs": [],
   "source": [
    "column1 = pa.array([1, 3, 9, 9, 2], type=pa.int32())\n",
    "column1"
   ]
  },
  {
   "cell_type": "code",
   "execution_count": null,
   "id": "9d442fcd-e30d-4a24-85c3-820e25d79f5a",
   "metadata": {},
   "outputs": [],
   "source": [
    "column1.buffers()"
   ]
  },
  {
   "cell_type": "code",
   "execution_count": null,
   "id": "e0c5a4e9-30c4-4ad5-b99e-8b0fd68beef7",
   "metadata": {},
   "outputs": [],
   "source": [
    "na.array(column1).inspect()"
   ]
  },
  {
   "cell_type": "markdown",
   "id": "eb05aaa4-2f81-4fa3-a16a-9bc699437027",
   "metadata": {},
   "source": [
    "##### Mutable vs Immutable"
   ]
  },
  {
   "cell_type": "code",
   "execution_count": null,
   "id": "cb12205c-da4d-495b-a42a-8b9af00a9ed5",
   "metadata": {},
   "outputs": [],
   "source": [
    "str_greeting = b\"hello barcelona\"\n",
    "buf = pa.py_buffer(str_greeting)\n",
    "buf"
   ]
  },
  {
   "cell_type": "code",
   "execution_count": null,
   "id": "a20210fd-5810-4aee-bb50-51cd3dc44faf",
   "metadata": {},
   "outputs": [],
   "source": [
    "str_greeting[0] = b\"f\""
   ]
  },
  {
   "cell_type": "code",
   "execution_count": null,
   "id": "4cd321fa-b492-4a9a-8700-45806f8e1403",
   "metadata": {},
   "outputs": [],
   "source": [
    "ba_greeting = bytearray(b\"hello barcelona\")\n",
    "buf = pa.py_buffer(ba_greeting)\n",
    "buf"
   ]
  },
  {
   "cell_type": "code",
   "execution_count": null,
   "id": "4331541b-038f-43af-930d-b8b34c68f900",
   "metadata": {},
   "outputs": [],
   "source": [
    "ba_greeting[5] = ord('_')\n",
    "ba_greeting"
   ]
  },
  {
   "cell_type": "code",
   "execution_count": null,
   "id": "20824458-471f-41eb-9238-1697afcdef82",
   "metadata": {},
   "outputs": [],
   "source": [
    "buf"
   ]
  },
  {
   "cell_type": "code",
   "execution_count": null,
   "id": "88da956e-3272-4419-a87e-10f8c7fd4118",
   "metadata": {},
   "outputs": [],
   "source": [
    "struct.unpack(\"15s\", buf.to_pybytes())"
   ]
  },
  {
   "cell_type": "markdown",
   "id": "7b0538b3-f8ce-4160-8db6-811d3b97fe3b",
   "metadata": {},
   "source": [
    "## Intermezzo: inspecting the buffers using PyArrow and nanoarrow\n",
    "\n",
    "#### PyArrow\n",
    "\n",
    "For a `pyarrow.Array`, we can use the `buffers()` method to get a list of all the buffers of the array. The information for each buffer inlcudes:\n",
    "\n",
    "- adress of the buffer\n",
    "- buffer size in bytes\n",
    "- whether the buffer is in CPU or not (GPU)\n",
    "- whether the buffer is mutable or not (buffers are generally mutable - changeable, but an Array is an immutable container in pyarrow)"
   ]
  },
  {
   "cell_type": "code",
   "execution_count": null,
   "id": "f0f97b5b-1818-41c4-ba82-89ce2d79f26d",
   "metadata": {},
   "outputs": [],
   "source": [
    "column1.buffers()"
   ]
  },
  {
   "cell_type": "markdown",
   "id": "da969b97-decb-4e04-9140-a151aa28c6be",
   "metadata": {},
   "source": [
    "In this case a simple, fixed width primitive array, there is only a single buffer for the data values.\n",
    "\n",
    "PyArrow doesn't provide direct easy access to the buffer content, but here are a few ways to inspect the buffer:"
   ]
  },
  {
   "cell_type": "code",
   "execution_count": null,
   "id": "0daa0542-7811-4374-a649-ac68cd52e75e",
   "metadata": {},
   "outputs": [],
   "source": [
    "values_buffer = column1.buffers()[1]\n",
    "values_buffer"
   ]
  },
  {
   "cell_type": "code",
   "execution_count": null,
   "id": "110c3558-535f-43f4-8cab-e733c66b4eb1",
   "metadata": {},
   "outputs": [],
   "source": [
    "# getting the raw bytes as a Python bytes object (note this makes a copy! don't do this with larger data)\n",
    "values_buffer.to_pybytes()"
   ]
  },
  {
   "cell_type": "code",
   "execution_count": null,
   "id": "ffe46733-089b-435c-bc3d-61965e8b66a1",
   "metadata": {},
   "outputs": [],
   "source": [
    "# zero-copy view as a numpy array (using the buffer protocol)\n",
    "# -> this just shows the raw bytes as well\n",
    "np.array(values_buffer)"
   ]
  },
  {
   "cell_type": "code",
   "execution_count": null,
   "id": "e3a1a46f-fd8b-4e05-a069-b085ea8e424f",
   "metadata": {},
   "outputs": [],
   "source": [
    "# in this case we know the buffer represents int32 values, so we can view the buffer as such\n",
    "np.frombuffer(values_buffer, dtype=np.int32)"
   ]
  },
  {
   "cell_type": "markdown",
   "id": "a501a7f4-d00e-4318-a275-388df94d0968",
   "metadata": {},
   "source": [
    "#### Inspecting buffers using nanoarrowna_column1 = na.array(column1)"
   ]
  },
  {
   "cell_type": "code",
   "execution_count": null,
   "id": "b15a89a5-0db5-487b-a8fc-46d7e40a0cc5",
   "metadata": {},
   "outputs": [],
   "source": [
    "na_column1 = na.array(column1)"
   ]
  },
  {
   "cell_type": "markdown",
   "id": "b021f099-7bda-4bea-8f28-98dcf284e524",
   "metadata": {},
   "source": [
    "To start, nanoarrow does have a functionality to print the details of the layout of a certain array, which already gives us insight into the buffers of the array:"
   ]
  },
  {
   "cell_type": "code",
   "execution_count": null,
   "id": "a3ac2594-f89a-4700-8684-8a97365254e8",
   "metadata": {},
   "outputs": [],
   "source": [
    "na_column1.inspect()"
   ]
  },
  {
   "cell_type": "markdown",
   "id": "b947a8e1-33a1-4cca-8ace-ab15bde36f55",
   "metadata": {},
   "source": [
    "Additionally, it also allows us to access the buffers directly through the `buffers` property:"
   ]
  },
  {
   "cell_type": "code",
   "execution_count": null,
   "id": "05b93e91-e14f-426b-aca0-82064a0db1db",
   "metadata": {},
   "outputs": [],
   "source": [
    "na_column1.buffers"
   ]
  },
  {
   "cell_type": "markdown",
   "id": "9b86e023-9a08-4533-888b-2ebb12db412c",
   "metadata": {},
   "source": [
    "Nanoarrow does keep track of the context in which the buffer was created (i.e. it is part of an int64 array and represents the data values):"
   ]
  },
  {
   "cell_type": "code",
   "execution_count": null,
   "id": "449fec91-4c15-457f-a9f8-c4d42cca9347",
   "metadata": {},
   "outputs": [],
   "source": [
    "data_buffer = na_column1.buffers[1]"
   ]
  },
  {
   "cell_type": "code",
   "execution_count": null,
   "id": "94e9dd30-6df7-492b-9066-75f47a1a8259",
   "metadata": {},
   "outputs": [],
   "source": [
    "data_buffer"
   ]
  },
  {
   "cell_type": "code",
   "execution_count": null,
   "id": "a0ee0e32-893b-4a8f-a990-fe1c4c5ac0d6",
   "metadata": {},
   "outputs": [],
   "source": [
    "np.array(data_buffer)"
   ]
  },
  {
   "cell_type": "markdown",
   "id": "7326fc3b-d640-4ee6-acda-0071f0ef9e14",
   "metadata": {},
   "source": [
    "## Support for null values\n",
    "\n",
    "Arrow supports missing values or \"nulls\" for all data types: any value in an array may be semantically null, whether primitive or nested type.\n",
    "\n",
    "In Arrow, a dedicated buffer, known as the validity (or \"null\") bitmap, is used alongside the data indicating whether each value in the array is null or not. You can think of it as vector of 0 and 1 values, where a 1 means that the value is not-null (\"valid\"), while a 0 indicates the value is null.\n",
    "\n",
    "This validity bitmap is optional, i.e. if there are no missing values in the array the buffer does not need to be allocated (as in the example column 1 in the diagram below).\n",
    "\n",
    "![](diagrams/primitive-diagram.svg)"
   ]
  },
  {
   "cell_type": "code",
   "execution_count": null,
   "id": "7853ef7f-f0c0-4454-aa2a-6f046fe31a59",
   "metadata": {},
   "outputs": [],
   "source": [
    "column2 = pa.array([1.2, 3.4, 9.0, None, 2.9])\n",
    "column2"
   ]
  },
  {
   "cell_type": "code",
   "execution_count": null,
   "id": "f4a05ee7-72ef-49ca-b5a7-b682222d77b4",
   "metadata": {},
   "outputs": [],
   "source": [
    "na.array(column2).inspect()"
   ]
  },
  {
   "cell_type": "markdown",
   "id": "2aa89b90-23dd-41a4-a72a-ed37739b6299",
   "metadata": {},
   "source": [
    "**Attention**: Arrow uses [least-significant bit (LSB) numbering](https://en.wikipedia.org/wiki/Bit_numbering) (also known as bit-endianness). This means that within a group of 8 bits (1 byte), we read right-to-left. However, the `nanoarrow` repr of the validity buffer in the example above already takes that into account and shows the values in logical order matching the position in the array. \n",
    "\n",
    "The diagram above shows it as how it is actually stored in memory. We can inspect the validity bitmap buffer with pyarrow and numpy:"
   ]
  },
  {
   "cell_type": "code",
   "execution_count": null,
   "id": "f5a5621f-8bad-4c49-9ad9-422a24ddb5ff",
   "metadata": {},
   "outputs": [],
   "source": [
    "validity_bitmap_buffer = column2.buffers()[0]\n",
    "validity_bitmap_buffer.to_pybytes()"
   ]
  },
  {
   "cell_type": "markdown",
   "id": "6cd18613-af70-4c96-98be-bcafaabe9373",
   "metadata": {},
   "source": [
    "In this case of a small array of 5 values, the validity bitmap consists of only a single byte. To view the data as bytes in numpy, we can use the `uint8` data type, which has a width of 1 byte:"
   ]
  },
  {
   "cell_type": "code",
   "execution_count": null,
   "id": "0aab072b-a143-4ecf-9857-525d4fd52b97",
   "metadata": {},
   "outputs": [],
   "source": [
    "np.frombuffer(validity_bitmap_buffer, dtype=\"uint8\")"
   ]
  },
  {
   "cell_type": "markdown",
   "id": "9701d198-2bd3-415e-85d4-771e3a9f3a4e",
   "metadata": {},
   "source": [
    "Numpy also provides a function to \"unpack\" the 0/1 bits of those bytes into separate values:"
   ]
  },
  {
   "cell_type": "code",
   "execution_count": null,
   "id": "9c5416ce-ffd0-489a-8352-03588eec0a40",
   "metadata": {},
   "outputs": [],
   "source": [
    "np.unpackbits(np.frombuffer(validity_bitmap_buffer, dtype=\"uint8\"), bitorder=\"little\")"
   ]
  },
  {
   "cell_type": "markdown",
   "id": "a87a3744-746b-4a99-9590-ba845d364ddb",
   "metadata": {},
   "source": [
    "In this case of an array of 5 elements, only the first 5 bits have a meaning, and the additional (\"padded\") bits are always set to 0."
   ]
  },
  {
   "cell_type": "markdown",
   "id": "083ada1d-91c4-48fa-9725-789bf08f7379",
   "metadata": {},
   "source": [
    "### Null vs NaN\n",
    "\n",
    "In numpy (and numpy-based packages such as pandas), often `NaN` is used as indicator for \"missing\" values, mostly by lack of better alternatives (numpy does not have built-in support for missing values in general). `NaN` is a specific floating-point value (\"Not a Number\") within the IEEE floating-point standard, and thus is only available for floating point data types.\n",
    "In the Arrow format, since there is a separate concept of nulls, a NaN value is considered as just another valid floating point array value:"
   ]
  },
  {
   "cell_type": "code",
   "execution_count": null,
   "id": "06ce132f-6026-4880-a620-92782185d705",
   "metadata": {},
   "outputs": [],
   "source": [
    "arr = na.array([0.5, float(\"nan\"), 1.5, None, 3.5], na.float64())"
   ]
  },
  {
   "cell_type": "code",
   "execution_count": null,
   "id": "d3cb0d4f-57c2-413a-b268-151506822406",
   "metadata": {},
   "outputs": [],
   "source": [
    "arr"
   ]
  },
  {
   "cell_type": "code",
   "execution_count": null,
   "id": "174448c5-bff2-4f81-a1f5-c9a0ab7b8c75",
   "metadata": {},
   "outputs": [],
   "source": [
    "arr.buffers"
   ]
  },
  {
   "cell_type": "markdown",
   "id": "cc54b544-ad37-4b26-b2f3-5822888edb31",
   "metadata": {},
   "source": [
    "## Exercise\n",
    "\n",
    "In the following code snippet, we create an Array object from python `datetime` instances. What is the type of the array? Is this a fixed-width primitive type? How are the datetimes expressed?\n",
    "\n",
    "<details><summary>Hints</summary>\n",
    "\n",
    "* A `pyarrow.Array` has a `.type` attribute. And this DataType object has a `byte_width` attribute in case of a fixed-width type.\n",
    "* Does it just have a single data buffer (next to the validity bitmap)?\n",
    "\n",
    "</details>"
   ]
  },
  {
   "cell_type": "code",
   "execution_count": null,
   "id": "830bdf97-8f34-4380-bbd9-3a0de64eed50",
   "metadata": {},
   "outputs": [],
   "source": [
    "from datetime import datetime\n",
    "\n",
    "column_datetime = pa.array([datetime(2024, 4, 22), datetime(2024, 4, 23), datetime(2024, 4, 24)])"
   ]
  },
  {
   "cell_type": "code",
   "execution_count": null,
   "id": "b7612c5c-e7e3-4471-93b9-e748b7b88dcc",
   "metadata": {},
   "outputs": [],
   "source": []
  },
  {
   "cell_type": "code",
   "execution_count": null,
   "id": "cc049e47-cecb-4098-b22c-3d69ebf86cdf",
   "metadata": {},
   "outputs": [],
   "source": []
  },
  {
   "cell_type": "markdown",
   "id": "78552628-d2b4-4476-96de-df3f5c7b9a78",
   "metadata": {},
   "source": [
    "# Variable length binary and string\n",
    "\n",
    "The bytes of a binary or string column are stored together consecutively in a single buffer or region of memory. To know where each element of the column starts and ends the physical layout also includes integer offsets. The length of which is one more than the length on the column as the last two elements define the start and the end of the last element in the binary/string column.\n",
    "\n",
    "Binary and string types share the same physical layout with where the string type is utf-8 binary and will produce an invalid result if the bytes are not valid utf-8.\n",
    "\n",
    "The difference between binary/string and large binary/string is in the offset type. In the first case that is `int32` and in the second it is `int64`.\n",
    "\n",
    "The limitation of types using 32 bit offsets is that they have a max size of 2GB for one array/column. One can still use the non-large variants for bigger data, but then multiple chunks are needed.\n",
    "\n",
    "![image info](./diagrams/var-string-diagram.svg)"
   ]
  },
  {
   "cell_type": "code",
   "execution_count": null,
   "id": "35996b16-0081-4b5e-8803-5abfb0d5e131",
   "metadata": {},
   "outputs": [],
   "source": [
    "# Binary column example\n",
    "pa.array(['python', 'data', 'conference', None, \"raulcd\"], type=pa.binary())"
   ]
  },
  {
   "cell_type": "markdown",
   "id": "96949d8a-6525-46dc-a7db-54a7c09d62ac",
   "metadata": {},
   "source": [
    "The bytes in the BinaryArray are shown in the \"hex\" representation:"
   ]
  },
  {
   "cell_type": "code",
   "execution_count": null,
   "id": "e940b6bb-30d8-4f88-b6c4-2b406865f305",
   "metadata": {},
   "outputs": [],
   "source": [
    "bytes.fromhex(\"707974686F6E\")"
   ]
  },
  {
   "cell_type": "code",
   "execution_count": null,
   "id": "84b395d9-d895-426e-8258-8dcbad56891b",
   "metadata": {},
   "outputs": [],
   "source": [
    "# String column examples\n",
    "pa.array(['python', 'data', 'conference', None, \"raulcd\"], type=pa.string())"
   ]
  },
  {
   "cell_type": "markdown",
   "id": "959ffe44-4dd9-43bc-9ad9-f252c5296938",
   "metadata": {},
   "source": [
    "### String type"
   ]
  },
  {
   "cell_type": "code",
   "execution_count": null,
   "id": "323f1b02-056e-4c33-acc8-b07720dfe07a",
   "metadata": {},
   "outputs": [],
   "source": [
    "# Inspecting buffers using PyArrow and buffers() method\n",
    "\n",
    "column4 = pa.array(['python', 'data', 'conference', None, \"raulcd\"], type=pa.string())\n",
    "column4.buffers()"
   ]
  },
  {
   "cell_type": "code",
   "execution_count": null,
   "id": "6f14fdcd-08c8-4008-a07a-6e04866ce0d3",
   "metadata": {},
   "outputs": [],
   "source": [
    "# Inspecting buffers using PyArrow and buffers() method and numpy\n",
    "\n",
    "validity_bitmap_buffer = column4.buffers()[0]\n",
    "np.unpackbits(np.frombuffer(validity_bitmap_buffer, dtype=\"uint8\"), bitorder=\"little\")"
   ]
  },
  {
   "cell_type": "code",
   "execution_count": null,
   "id": "d2696354-8001-4d88-a683-82e8c6f845eb",
   "metadata": {},
   "outputs": [],
   "source": [
    "offsets_buffer = column4.buffers()[1]\n",
    "np.frombuffer(offsets_buffer, dtype=\"int32\")"
   ]
  },
  {
   "cell_type": "code",
   "execution_count": null,
   "id": "572b2238-f2c6-448b-bace-720c915f7da2",
   "metadata": {},
   "outputs": [],
   "source": [
    "values_buffer = column4.buffers()[2]\n",
    "values_buffer.to_pybytes()"
   ]
  },
  {
   "cell_type": "code",
   "execution_count": null,
   "id": "83b59105-078d-4838-8fdb-4090563c19f8",
   "metadata": {},
   "outputs": [],
   "source": [
    "# Inspecting buffers using nanoarrow\n",
    "\n",
    "na_column4 = na.array(column4)\n",
    "na_column4.inspect()"
   ]
  },
  {
   "cell_type": "markdown",
   "id": "c010d490-8306-4b70-821f-9dcbc1591f57",
   "metadata": {},
   "source": [
    "### Binary type"
   ]
  },
  {
   "cell_type": "code",
   "execution_count": null,
   "id": "a8791352-93f0-459d-b750-0451092dd6b9",
   "metadata": {},
   "outputs": [],
   "source": [
    "column4 = pa.array(['python', 'data', 'conference', None, \"raulcd\"], type=pa.binary())\n",
    "column4.buffers()"
   ]
  },
  {
   "cell_type": "code",
   "execution_count": null,
   "id": "b2799502-633a-42aa-8def-e9fe623d6d44",
   "metadata": {},
   "outputs": [],
   "source": [
    "na_column4 = na.array(column4)\n",
    "na_column4.inspect()"
   ]
  },
  {
   "cell_type": "markdown",
   "id": "b5539374-e04d-4fb7-bd71-2a036eaca490",
   "metadata": {},
   "source": [
    "### Comparing string and large string"
   ]
  },
  {
   "cell_type": "code",
   "execution_count": null,
   "id": "f86ec1ac-ac47-4992-8394-ee995c911136",
   "metadata": {},
   "outputs": [],
   "source": [
    "column4 = pa.array(['python', 'data', 'conference', None, \"raulcd\"], type=pa.string())\n",
    "na.array(column4).inspect()"
   ]
  },
  {
   "cell_type": "code",
   "execution_count": null,
   "id": "ff0fa8ac-3e4a-48a5-b60c-a2f397b4c4ed",
   "metadata": {},
   "outputs": [],
   "source": [
    "column4 = pa.array(['python', 'data', 'conference', None, \"raulcd\"], type=pa.large_string())\n",
    "na.array(column4).inspect()"
   ]
  },
  {
   "cell_type": "markdown",
   "id": "7add4ad4-6c46-414b-a792-9eb86995f4fe",
   "metadata": {},
   "source": [
    "### Variable length binary and string view\n",
    "\n",
    "Binary and string view layout are new in Arrow Columnar format 1.4. This layout is adapted from TU Munich's UmbraDB, and similar to the string layout used in DuckDB and Velox (and sometimes also called \"German style strings\").\n",
    "\n",
    "The main differences to classical binary and string types is the **views buffer**. It includes the length of the string, and then either contains the characters inline (for small strings) or either only contains the first 4 bytes of the string and point to potentially several data buffers. It also supports binary and strings to be written out of order.\n",
    "\n",
    "These properties are important for efficient string processing. The prefix enables a profitable fast path for string comparisons, which are frequently determined within the first four bytes. Selecting elements is a simple \"take\" operations on the fixed-width views buffer and does not need to rewrite the values buffers.\n",
    "\n",
    "![image info](./diagrams/var-string-view-diagram.svg)"
   ]
  },
  {
   "cell_type": "code",
   "execution_count": null,
   "id": "daac0c76-24d1-4108-86d7-9946738c22de",
   "metadata": {},
   "outputs": [],
   "source": [
    "column5 = pa.array(['String longer than 12', 'Short', None, 'Short string', \"Another long string\"], type=pa.string_view())\n",
    "column5"
   ]
  },
  {
   "cell_type": "code",
   "execution_count": null,
   "id": "00225b68-991c-4283-b809-bda523a175e5",
   "metadata": {},
   "outputs": [],
   "source": [
    "# Inspecting buffers using PyArrow and buffers() method\n",
    "column5.buffers()"
   ]
  },
  {
   "cell_type": "code",
   "execution_count": null,
   "id": "07178c1b-76e1-459c-897a-aa886429ee81",
   "metadata": {},
   "outputs": [],
   "source": [
    "# Inspecting buffers using PyArrow and buffers() method and numpy\n",
    "\n",
    "validity_bitmap_buffer = column5.buffers()[0]\n",
    "np.unpackbits(np.frombuffer(validity_bitmap_buffer, dtype=\"uint8\"), bitorder=\"little\")"
   ]
  },
  {
   "cell_type": "code",
   "execution_count": null,
   "id": "be5529da-064a-4fa1-aeec-005066425fc8",
   "metadata": {},
   "outputs": [],
   "source": [
    "views_buffer = column5.buffers()[1]\n",
    "np.frombuffer(views_buffer, dtype=\"int32\")"
   ]
  },
  {
   "cell_type": "code",
   "execution_count": null,
   "id": "4f9fd496-d459-4124-81fa-a44ff43df042",
   "metadata": {},
   "outputs": [],
   "source": [
    "views_buffer.to_pybytes()"
   ]
  },
  {
   "cell_type": "code",
   "execution_count": null,
   "id": "fca2e972-5ecf-47f8-a795-a6fce76aee1f",
   "metadata": {},
   "outputs": [],
   "source": [
    "values_buffer = column5.buffers()[2]\n",
    "values_buffer.to_pybytes()"
   ]
  },
  {
   "cell_type": "code",
   "execution_count": null,
   "id": "7f11c556-10d6-4f7a-8628-9b90db114115",
   "metadata": {},
   "outputs": [],
   "source": [
    "import struct"
   ]
  },
  {
   "cell_type": "code",
   "execution_count": null,
   "id": "62a7b7f2-0a45-4ae3-8fe1-b7a366cb541c",
   "metadata": {},
   "outputs": [],
   "source": [
    "struct.unpack(\"i4sii\", views_buffer.to_pybytes()[:16])"
   ]
  },
  {
   "cell_type": "code",
   "execution_count": null,
   "id": "60bb817b-308d-41f1-92bd-32852a78808b",
   "metadata": {},
   "outputs": [],
   "source": [
    "struct.unpack(\"i12s\", views_buffer.to_pybytes()[16:32])"
   ]
  },
  {
   "cell_type": "code",
   "execution_count": null,
   "id": "2ebdb475-2129-4190-befe-141303179352",
   "metadata": {},
   "outputs": [],
   "source": [
    "struct.unpack(\"iiii\", views_buffer.to_pybytes()[32:48])"
   ]
  },
  {
   "cell_type": "code",
   "execution_count": null,
   "id": "1b1a2b40-65bb-4e17-9335-f66ca4e4e96f",
   "metadata": {},
   "outputs": [],
   "source": [
    "struct.unpack(\"i12s\", views_buffer.to_pybytes()[48:64])"
   ]
  },
  {
   "cell_type": "code",
   "execution_count": null,
   "id": "d5206937-46fa-4ad2-a83d-1696ef141949",
   "metadata": {},
   "outputs": [],
   "source": [
    "struct.unpack(\"i4sii\", views_buffer.to_pybytes()[64:80])"
   ]
  },
  {
   "cell_type": "code",
   "execution_count": null,
   "id": "83cdd42e-10ab-486f-bd19-10066495a2ab",
   "metadata": {},
   "outputs": [],
   "source": [
    "column6 = pa.concat_arrays(\n",
    "    [column5, pa.array([\"pythondataconferenceraulcd\"], type=pa.string_view())]\n",
    ")\n",
    "column6"
   ]
  },
  {
   "cell_type": "code",
   "execution_count": null,
   "id": "229c8676-ba8e-4533-8bdf-f91e5e11be20",
   "metadata": {},
   "outputs": [],
   "source": [
    "column6.buffers()"
   ]
  },
  {
   "cell_type": "markdown",
   "id": "88fa19a9-dd72-4027-859c-ddc7a7442c26",
   "metadata": {},
   "source": [
    "**Note**: I wanted to create a String View Array reusing the buffers but foung a bug on pyarrow.\n",
    "\n",
    "See for details: [\\[Python\\] StringViewArray.from_buffers does not seem to work as expected](https://github.com/apache/arrow/issues/44651)"
   ]
  },
  {
   "cell_type": "code",
   "execution_count": null,
   "id": "0edf207c-f3eb-44a5-ab49-43a9c944d692",
   "metadata": {},
   "outputs": [],
   "source": [
    "views_bytes = column6.buffers()[1].to_pybytes()\n",
    "\n",
    "for i in range(0, len(views_bytes), 16):\n",
    "    length, = struct.unpack(\"i\", views_bytes[i:i+4])\n",
    "    if length > 12:\n",
    "        print(struct.unpack(\"i4sii\", views_bytes[i:i+16]))\n",
    "    else:\n",
    "        print(struct.unpack(\"i12s\", views_bytes[i:i+16]))"
   ]
  },
  {
   "cell_type": "markdown",
   "id": "81fc745d-6339-4aac-82a1-5a66aab1d229",
   "metadata": {},
   "source": [
    "## Exercise\n",
    "\n",
    "In the following code snippet, we create an Array object of byte objects, all with the same size. Can you see what's the difference with the previous binary and string arrays we have seen?\n",
    "\n",
    "<details><summary>Hints</summary>\n",
    "\n",
    "* How many buffers does it have? Does it have an offsets buffer?\n",
    "* Is it a variable-size or fixed-size layout?\n",
    "\n",
    "</details>"
   ]
  },
  {
   "cell_type": "code",
   "execution_count": null,
   "id": "6a04bda8-6f6e-4cf2-b56a-18bae5c64dd8",
   "metadata": {},
   "outputs": [],
   "source": [
    "column7 = pa.array([b\"some\", b\"byte\", b\"data\"], pa.binary(4)) \n",
    "column7"
   ]
  },
  {
   "cell_type": "code",
   "execution_count": null,
   "id": "fb89907d-9815-4b1e-8979-47874f322fbe",
   "metadata": {},
   "outputs": [],
   "source": [
    "column7.to_pylist()"
   ]
  }
 ],
 "metadata": {
  "kernelspec": {
   "display_name": "Python 3 (ipykernel)",
   "language": "python",
   "name": "python3"
  },
  "language_info": {
   "codemirror_mode": {
    "name": "ipython",
    "version": 3
   },
   "file_extension": ".py",
   "mimetype": "text/x-python",
   "name": "python",
   "nbconvert_exporter": "python",
   "pygments_lexer": "ipython3",
   "version": "3.12.3"
  }
 },
 "nbformat": 4,
 "nbformat_minor": 5
}
