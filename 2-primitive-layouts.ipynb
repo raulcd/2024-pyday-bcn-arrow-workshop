{
 "cells": [
  {
   "cell_type": "markdown",
   "id": "7ad2f271-8dac-47fd-981f-f670f25977f1",
   "metadata": {},
   "source": [
    "# Primitive layouts"
   ]
  },
  {
   "cell_type": "code",
   "execution_count": 1,
   "id": "d6de9368-eed8-49a2-8d55-e6b4ffc5c49c",
   "metadata": {},
   "outputs": [],
   "source": [
    "import numpy as np\n",
    "import nanoarrow as na\n",
    "import pyarrow as pa"
   ]
  },
  {
   "cell_type": "markdown",
   "id": "bc4d4ce7-ff33-4b0a-9235-b943fee8c1f9",
   "metadata": {},
   "source": [
    "## Fixed Size Primitive Layout\n",
    "\n",
    "A primitive value array represents an array of values where each value has the same physical size measured in bytes.\n",
    "\n",
    "![](diagrams/primitive-diagram.svg)\n",
    "\n",
    "For example a primitive array of int32s (4 bytes per value):"
   ]
  },
  {
   "cell_type": "code",
   "execution_count": 2,
   "id": "53dd30c6-9675-4738-b91f-9d9cf00b4a2f",
   "metadata": {},
   "outputs": [
    {
     "data": {
      "text/plain": [
       "<pyarrow.lib.Int32Array object at 0x7177600d5c60>\n",
       "[\n",
       "  1,\n",
       "  3,\n",
       "  9,\n",
       "  9,\n",
       "  2\n",
       "]"
      ]
     },
     "execution_count": 2,
     "metadata": {},
     "output_type": "execute_result"
    }
   ],
   "source": [
    "column1 = pa.array([1, 3, 9, 9, 2], type=pa.int32())\n",
    "column1"
   ]
  },
  {
   "cell_type": "code",
   "execution_count": 3,
   "id": "9d442fcd-e30d-4a24-85c3-820e25d79f5a",
   "metadata": {},
   "outputs": [
    {
     "data": {
      "text/plain": [
       "[None,\n",
       " <pyarrow.Buffer address=0x51760020080 size=20 is_cpu=True is_mutable=True>]"
      ]
     },
     "execution_count": 3,
     "metadata": {},
     "output_type": "execute_result"
    }
   ],
   "source": [
    "column1.buffers()"
   ]
  },
  {
   "cell_type": "code",
   "execution_count": 4,
   "id": "e0c5a4e9-30c4-4ad5-b99e-8b0fd68beef7",
   "metadata": {},
   "outputs": [
    {
     "name": "stdout",
     "output_type": "stream",
     "text": [
      "<ArrowArray int32>\n",
      "- length: 5\n",
      "- offset: 0\n",
      "- null_count: 0\n",
      "- buffers[2]:\n",
      "  - validity <bool[0 b] >\n",
      "  - data <int32[20 b] 1 3 9 9 2>\n",
      "- dictionary: NULL\n",
      "- children[0]:\n"
     ]
    }
   ],
   "source": [
    "na.array(column1).inspect()"
   ]
  },
  {
   "cell_type": "markdown",
   "id": "4bfdacc2-771f-4e6f-a638-224c9b748981",
   "metadata": {},
   "source": [
    "# TODO: Example of buffer on GPU? What does it mean for a buffer to be mutable??"
   ]
  },
  {
   "cell_type": "markdown",
   "id": "7b0538b3-f8ce-4160-8db6-811d3b97fe3b",
   "metadata": {},
   "source": [
    "## Intermezzo: inspecting the buffers using PyArrow and nanoarrow\n",
    "\n",
    "#### PyArrow\n",
    "\n",
    "For a `pyarrow.Array`, we can use the `buffers()` method to get a list of all the buffers of the array. The information for each buffer inlcudes:\n",
    "\n",
    "- adress of the buffer\n",
    "- buffer size in bytes\n",
    "- whether the buffer is in CPU or not (GPU)\n",
    "- whether the buffer is mutable or not (buffers are generally mutable - changeable, but an Array is an immutable container in pyarrow)"
   ]
  },
  {
   "cell_type": "code",
   "execution_count": 5,
   "id": "f0f97b5b-1818-41c4-ba82-89ce2d79f26d",
   "metadata": {},
   "outputs": [
    {
     "data": {
      "text/plain": [
       "[None,\n",
       " <pyarrow.Buffer address=0x51760020080 size=20 is_cpu=True is_mutable=True>]"
      ]
     },
     "execution_count": 5,
     "metadata": {},
     "output_type": "execute_result"
    }
   ],
   "source": [
    "column1.buffers()"
   ]
  },
  {
   "cell_type": "markdown",
   "id": "da969b97-decb-4e04-9140-a151aa28c6be",
   "metadata": {},
   "source": [
    "In this case a simple, fixed width primitive array, there is only a single buffer for the data values.\n",
    "\n",
    "PyArrow doesn't provide direct easy access to the buffer content, but here are a few ways to inspect the buffer:"
   ]
  },
  {
   "cell_type": "code",
   "execution_count": 6,
   "id": "0daa0542-7811-4374-a649-ac68cd52e75e",
   "metadata": {},
   "outputs": [
    {
     "data": {
      "text/plain": [
       "<pyarrow.Buffer address=0x51760020080 size=20 is_cpu=True is_mutable=True>"
      ]
     },
     "execution_count": 6,
     "metadata": {},
     "output_type": "execute_result"
    }
   ],
   "source": [
    "values_buffer = column1.buffers()[1]\n",
    "values_buffer"
   ]
  },
  {
   "cell_type": "code",
   "execution_count": 7,
   "id": "110c3558-535f-43f4-8cab-e733c66b4eb1",
   "metadata": {},
   "outputs": [
    {
     "data": {
      "text/plain": [
       "b'\\x01\\x00\\x00\\x00\\x03\\x00\\x00\\x00\\t\\x00\\x00\\x00\\t\\x00\\x00\\x00\\x02\\x00\\x00\\x00'"
      ]
     },
     "execution_count": 7,
     "metadata": {},
     "output_type": "execute_result"
    }
   ],
   "source": [
    "# getting the raw bytes as a Python bytes object (note this makes a copy! don't do this with larger data)\n",
    "values_buffer.to_pybytes()"
   ]
  },
  {
   "cell_type": "code",
   "execution_count": 8,
   "id": "ffe46733-089b-435c-bc3d-61965e8b66a1",
   "metadata": {},
   "outputs": [
    {
     "data": {
      "text/plain": [
       "array([1, 0, 0, 0, 3, 0, 0, 0, 9, 0, 0, 0, 9, 0, 0, 0, 2, 0, 0, 0],\n",
       "      dtype=int8)"
      ]
     },
     "execution_count": 8,
     "metadata": {},
     "output_type": "execute_result"
    }
   ],
   "source": [
    "# zero-copy view as a numpy array (using the buffer protocol)\n",
    "# -> this just shows the raw bytes as well\n",
    "np.array(values_buffer)"
   ]
  },
  {
   "cell_type": "code",
   "execution_count": 9,
   "id": "e3a1a46f-fd8b-4e05-a069-b085ea8e424f",
   "metadata": {},
   "outputs": [
    {
     "data": {
      "text/plain": [
       "array([1, 3, 9, 9, 2], dtype=int32)"
      ]
     },
     "execution_count": 9,
     "metadata": {},
     "output_type": "execute_result"
    }
   ],
   "source": [
    "# in this case we know the buffer represents int32 values, so we can view the buffer as such\n",
    "np.frombuffer(values_buffer, dtype=np.int32)"
   ]
  },
  {
   "cell_type": "markdown",
   "id": "a501a7f4-d00e-4318-a275-388df94d0968",
   "metadata": {},
   "source": [
    "#### Inspecting buffers using nanoarrowna_column1 = na.array(column1)"
   ]
  },
  {
   "cell_type": "code",
   "execution_count": 10,
   "id": "b15a89a5-0db5-487b-a8fc-46d7e40a0cc5",
   "metadata": {},
   "outputs": [],
   "source": [
    "na_column1 = na.array(column1)"
   ]
  },
  {
   "cell_type": "markdown",
   "id": "b021f099-7bda-4bea-8f28-98dcf284e524",
   "metadata": {},
   "source": [
    "To start, nanoarrow does have a functionality to print the details of the layout of a certain array, which already gives us insight into the buffers of the array:"
   ]
  },
  {
   "cell_type": "code",
   "execution_count": 11,
   "id": "a3ac2594-f89a-4700-8684-8a97365254e8",
   "metadata": {},
   "outputs": [
    {
     "name": "stdout",
     "output_type": "stream",
     "text": [
      "<ArrowArray int32>\n",
      "- length: 5\n",
      "- offset: 0\n",
      "- null_count: 0\n",
      "- buffers[2]:\n",
      "  - validity <bool[0 b] >\n",
      "  - data <int32[20 b] 1 3 9 9 2>\n",
      "- dictionary: NULL\n",
      "- children[0]:\n"
     ]
    }
   ],
   "source": [
    "na_column1.inspect()"
   ]
  },
  {
   "cell_type": "markdown",
   "id": "b947a8e1-33a1-4cca-8ace-ab15bde36f55",
   "metadata": {},
   "source": [
    "Additionally, it also allows us to access the buffers directly through the `buffers` property:"
   ]
  },
  {
   "cell_type": "code",
   "execution_count": 12,
   "id": "05b93e91-e14f-426b-aca0-82064a0db1db",
   "metadata": {},
   "outputs": [
    {
     "data": {
      "text/plain": [
       "(nanoarrow.c_buffer.CBufferView(bool[0 b] ),\n",
       " nanoarrow.c_buffer.CBufferView(int32[20 b] 1 3 9 9 2))"
      ]
     },
     "execution_count": 12,
     "metadata": {},
     "output_type": "execute_result"
    }
   ],
   "source": [
    "na_column1.buffers"
   ]
  },
  {
   "cell_type": "markdown",
   "id": "9b86e023-9a08-4533-888b-2ebb12db412c",
   "metadata": {},
   "source": [
    "Nanoarrow does keep track of the context in which the buffer was created (i.e. it is part of an int64 array and represents the data values):"
   ]
  },
  {
   "cell_type": "code",
   "execution_count": 13,
   "id": "449fec91-4c15-457f-a9f8-c4d42cca9347",
   "metadata": {},
   "outputs": [],
   "source": [
    "data_buffer = na_column1.buffers[1]"
   ]
  },
  {
   "cell_type": "code",
   "execution_count": 14,
   "id": "94e9dd30-6df7-492b-9066-75f47a1a8259",
   "metadata": {},
   "outputs": [
    {
     "data": {
      "text/plain": [
       "nanoarrow.c_buffer.CBufferView(int32[20 b] 1 3 9 9 2)"
      ]
     },
     "execution_count": 14,
     "metadata": {},
     "output_type": "execute_result"
    }
   ],
   "source": [
    "data_buffer"
   ]
  },
  {
   "cell_type": "code",
   "execution_count": 15,
   "id": "a0ee0e32-893b-4a8f-a990-fe1c4c5ac0d6",
   "metadata": {},
   "outputs": [
    {
     "data": {
      "text/plain": [
       "array([1, 3, 9, 9, 2], dtype=int32)"
      ]
     },
     "execution_count": 15,
     "metadata": {},
     "output_type": "execute_result"
    }
   ],
   "source": [
    "np.array(data_buffer)"
   ]
  },
  {
   "cell_type": "markdown",
   "id": "7326fc3b-d640-4ee6-acda-0071f0ef9e14",
   "metadata": {},
   "source": [
    "## Support for null values\n",
    "\n",
    "Arrow supports missing values or \"nulls\" for all data types: any value in an array may be semantically null, whether primitive or nested type.\n",
    "\n",
    "In Arrow, a dedicated buffer, known as the validity (or \"null\") bitmap, is used alongside the data indicating whether each value in the array is null or not. You can think of it as vector of 0 and 1 values, where a 1 means that the value is not-null (\"valid\"), while a 0 indicates the value is null.\n",
    "\n",
    "This validity bitmap is optional, i.e. if there are no missing values in the array the buffer does not need to be allocated (as in the example column 1 in the diagram below).\n",
    "\n",
    "![](diagrams/primitive-diagram.svg)"
   ]
  },
  {
   "cell_type": "code",
   "execution_count": 16,
   "id": "7853ef7f-f0c0-4454-aa2a-6f046fe31a59",
   "metadata": {},
   "outputs": [
    {
     "data": {
      "text/plain": [
       "<pyarrow.lib.DoubleArray object at 0x7177600d5d20>\n",
       "[\n",
       "  1.2,\n",
       "  3.4,\n",
       "  9,\n",
       "  null,\n",
       "  2.9\n",
       "]"
      ]
     },
     "execution_count": 16,
     "metadata": {},
     "output_type": "execute_result"
    }
   ],
   "source": [
    "column2 = pa.array([1.2, 3.4, 9.0, None, 2.9])\n",
    "column2"
   ]
  },
  {
   "cell_type": "code",
   "execution_count": 17,
   "id": "f4a05ee7-72ef-49ca-b5a7-b682222d77b4",
   "metadata": {},
   "outputs": [
    {
     "name": "stdout",
     "output_type": "stream",
     "text": [
      "<ArrowArray double>\n",
      "- length: 5\n",
      "- offset: 0\n",
      "- null_count: 1\n",
      "- buffers[2]:\n",
      "  - validity <bool[1 b] 11101000>\n",
      "  - data <double[40 b] 1.2 3.4 9.0 0.0 2.9>\n",
      "- dictionary: NULL\n",
      "- children[0]:\n"
     ]
    }
   ],
   "source": [
    "na.array(column2).inspect()"
   ]
  },
  {
   "cell_type": "markdown",
   "id": "2aa89b90-23dd-41a4-a72a-ed37739b6299",
   "metadata": {},
   "source": [
    "**Attention**: Arrow uses [least-significant bit (LSB) numbering](https://en.wikipedia.org/wiki/Bit_numbering) (also known as bit-endianness). This means that within a group of 8 bits (1 byte), we read right-to-left. However, the `nanoarrow` repr of the validity buffer in the example above already takes that into account and shows the values in logical order matching the position in the array. \n",
    "\n",
    "The diagram above shows it as how it is actually stored in memory. We can inspect the validity bitmap buffer with pyarrow and numpy:"
   ]
  },
  {
   "cell_type": "code",
   "execution_count": 19,
   "id": "f5a5621f-8bad-4c49-9ad9-422a24ddb5ff",
   "metadata": {},
   "outputs": [
    {
     "data": {
      "text/plain": [
       "b'\\x17'"
      ]
     },
     "execution_count": 19,
     "metadata": {},
     "output_type": "execute_result"
    }
   ],
   "source": [
    "validity_bitmap_buffer = column2.buffers()[0]\n",
    "validity_bitmap_buffer.to_pybytes()"
   ]
  },
  {
   "cell_type": "markdown",
   "id": "6cd18613-af70-4c96-98be-bcafaabe9373",
   "metadata": {},
   "source": [
    "In this case of a small array of 5 values, the validity bitmap consists of only a single byte. To view the data as bytes in numpy, we can use the `uint8` data type, which has a width of 1 byte:"
   ]
  },
  {
   "cell_type": "code",
   "execution_count": 21,
   "id": "0aab072b-a143-4ecf-9857-525d4fd52b97",
   "metadata": {},
   "outputs": [
    {
     "data": {
      "text/plain": [
       "array([23], dtype=uint8)"
      ]
     },
     "execution_count": 21,
     "metadata": {},
     "output_type": "execute_result"
    }
   ],
   "source": [
    "np.frombuffer(validity_bitmap_buffer, dtype=\"uint8\")"
   ]
  },
  {
   "cell_type": "markdown",
   "id": "9701d198-2bd3-415e-85d4-771e3a9f3a4e",
   "metadata": {},
   "source": [
    "Numpy also provides a function to \"unpack\" the 0/1 bits of those bytes into separate values:"
   ]
  },
  {
   "cell_type": "code",
   "execution_count": 22,
   "id": "9c5416ce-ffd0-489a-8352-03588eec0a40",
   "metadata": {},
   "outputs": [
    {
     "data": {
      "text/plain": [
       "array([1, 1, 1, 0, 1, 0, 0, 0], dtype=uint8)"
      ]
     },
     "execution_count": 22,
     "metadata": {},
     "output_type": "execute_result"
    }
   ],
   "source": [
    "np.unpackbits(np.frombuffer(validity_bitmap_buffer, dtype=\"uint8\"), bitorder=\"little\")"
   ]
  },
  {
   "cell_type": "markdown",
   "id": "a87a3744-746b-4a99-9590-ba845d364ddb",
   "metadata": {},
   "source": [
    "In this case of an array of 5 elements, only the first 5 bits have a meaning, and the additional (\"padded\") bits are always set to 0."
   ]
  },
  {
   "cell_type": "markdown",
   "id": "083ada1d-91c4-48fa-9725-789bf08f7379",
   "metadata": {},
   "source": [
    "### Null vs NaN\n",
    "\n",
    "In numpy (and numpy-based packages such as pandas), often `NaN` is used as indicator for \"missing\" values, mostly by lack of better alternatives (numpy does not have built-in support for missing values in general). `NaN` is a specific floating-point value (\"Not a Number\") within the IEEE floating-point standard, and thus is only available for floating point data types.\n",
    "In the Arrow format, since there is a separate concept of nulls, a NaN value is considered as just another valid floating point array value:"
   ]
  },
  {
   "cell_type": "code",
   "execution_count": 23,
   "id": "06ce132f-6026-4880-a620-92782185d705",
   "metadata": {},
   "outputs": [],
   "source": [
    "arr = na.array([0.5, float(\"nan\"), 1.5, None, 3.5], na.float64())"
   ]
  },
  {
   "cell_type": "code",
   "execution_count": 24,
   "id": "d3cb0d4f-57c2-413a-b268-151506822406",
   "metadata": {},
   "outputs": [
    {
     "data": {
      "text/plain": [
       "nanoarrow.Array<double>[5]\n",
       "0.5\n",
       "nan\n",
       "1.5\n",
       "None\n",
       "3.5"
      ]
     },
     "execution_count": 24,
     "metadata": {},
     "output_type": "execute_result"
    }
   ],
   "source": [
    "arr"
   ]
  },
  {
   "cell_type": "code",
   "execution_count": 25,
   "id": "174448c5-bff2-4f81-a1f5-c9a0ab7b8c75",
   "metadata": {},
   "outputs": [
    {
     "data": {
      "text/plain": [
       "(nanoarrow.c_buffer.CBufferView(bool[1 b] 11101000),\n",
       " nanoarrow.c_buffer.CBufferView(double[40 b] 0.5 nan 1.5 0.0 3.5))"
      ]
     },
     "execution_count": 25,
     "metadata": {},
     "output_type": "execute_result"
    }
   ],
   "source": [
    "arr.buffers"
   ]
  },
  {
   "cell_type": "markdown",
   "id": "cc54b544-ad37-4b26-b2f3-5822888edb31",
   "metadata": {},
   "source": [
    "## Exercise\n",
    "\n",
    "In the following code snippet, we create an Array object from python `datetime` instances. What is the type of the array? Is this a fixed-width primitive type? How are the datetimes expressed?\n",
    "\n",
    "<details><summary>Hints</summary>\n",
    "\n",
    "* A `pyarrow.Array` has a `.type` attribute. And this DataType object has a `byte_width` attribute in case of a fixed-width type.\n",
    "* Does it just have a single data buffer (next to the validity bitmap)?\n",
    "\n",
    "</details>"
   ]
  },
  {
   "cell_type": "code",
   "execution_count": 26,
   "id": "830bdf97-8f34-4380-bbd9-3a0de64eed50",
   "metadata": {},
   "outputs": [],
   "source": [
    "from datetime import datetime\n",
    "\n",
    "column_datetime = pa.array([datetime(2024, 4, 22), datetime(2024, 4, 23), datetime(2024, 4, 24)])"
   ]
  },
  {
   "cell_type": "code",
   "execution_count": null,
   "id": "b7612c5c-e7e3-4471-93b9-e748b7b88dcc",
   "metadata": {},
   "outputs": [],
   "source": []
  },
  {
   "cell_type": "code",
   "execution_count": null,
   "id": "cc049e47-cecb-4098-b22c-3d69ebf86cdf",
   "metadata": {},
   "outputs": [],
   "source": []
  }
 ],
 "metadata": {
  "kernelspec": {
   "display_name": "Python 3 (ipykernel)",
   "language": "python",
   "name": "python3"
  },
  "language_info": {
   "codemirror_mode": {
    "name": "ipython",
    "version": 3
   },
   "file_extension": ".py",
   "mimetype": "text/x-python",
   "name": "python",
   "nbconvert_exporter": "python",
   "pygments_lexer": "ipython3",
   "version": "3.12.3"
  }
 },
 "nbformat": 4,
 "nbformat_minor": 5
}
