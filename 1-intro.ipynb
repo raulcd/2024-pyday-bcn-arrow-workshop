{
 "cells": [
  {
   "cell_type": "markdown",
   "id": "9f9294b2-4650-4737-a0fc-52e7f130645f",
   "metadata": {},
   "source": [
    "# A deep dive into the Arrow Columnar format with pyarrow and nanoarrow\n",
    "\n",
    "Link to the content:\n",
    "\n",
    "https://github.com/raulcd/2024-pyday-bcn-arrow-workshop\n",
    "\n",
    "![image info](./diagrams/link_qr.png)\n"
   ]
  },
  {
   "cell_type": "markdown",
   "id": "527318c8-f5cc-40c7-a401-512500040692",
   "metadata": {},
   "source": [
    "# Agenda\n",
    "\n",
    "1. Whoami\n",
    "2. Introduction\n",
    "3. The Arrow Columnar format\n",
    "4. Primitive Layouts\n",
    "5. Nested Layouts\n",
    "6. All types and Extension Types\n",
    "7. The Arrow C Data Interface\n",
    "8. Bonus - Flight, Flight SQL and ADBC\n",
    "\n"
   ]
  },
  {
   "cell_type": "markdown",
   "id": "51e8d6c5-af62-4bf7-b386-d9de8af47e30",
   "metadata": {},
   "source": [
    "# Whoami\n",
    "\n",
    "Raúl Cumplido\n",
    "\n",
    "https://github.com/raulcd\n",
    "\n",
    "https://x.com/raulcumplido\n",
    "\n",
    "- Apache Arrow PMC and Release Manager\n",
    "- Currently working at QuantStack as an Open Source Developer for Apache Arrow\n",
    "- Other Open Source work, meetup and conference organizer\n",
    "\n",
    "## Disclaimer\n",
    "\n",
    "This workshop is based on a Tutorial that was given at PyCon DE by:\n",
    "- Joris Van den Bossche\n",
    "- Alenka Frim\n",
    "- Raúl Cumplido"
   ]
  },
  {
   "cell_type": "markdown",
   "id": "f2b0b8f9-c50d-4de4-a11b-280aec44144b",
   "metadata": {},
   "source": [
    "# Apache Arrow\n",
    "\n",
    "Apache Arrow was born with the idea to define a set of standards for data representation and interchange between languages and systems to avoid costs of data serialization/deserialization and in order to avoid reinventing the wheel on each of those systems and languages.\n",
    "\n",
    "### The initial problem:\n",
    "\n",
    "Each system / language requires their own format definitions, implementation of common algorithms, etcetera. In our heterogeneous environments we often have to move data from one system/language to accommodate our workflows that meant copy&convert the data between them, which is quite costly.\n",
    "\n",
    "![image info](./diagrams/without_arrow.png)\n",
    "\n",
    "With the Arrow Columnar format Specification:\n",
    "\n",
    "![image info](./diagrams/with_arrow.png)\n",
    "\n",
    "Apart from the initial vision, Arrow has grown to also develop a multi-language collection of libraries for solving systems problems related to in-memory analytical data processing. This includes such topics as:\n",
    "\n",
    "- Zero-copy shared memory and RPC-based data movement\n",
    "- Reading and writing file formats (like CSV, Apache ORC, and Apache Parquet)\n",
    "- In-memory analytics and query processing"
   ]
  },
  {
   "cell_type": "markdown",
   "id": "088053c8-07ff-471a-8990-f0339381c1d8",
   "metadata": {},
   "source": [
    "## Language implementations and PyArrow\n",
    "\n",
    "The Apache Arrow Columnar format has been implemented in multitude of languages:\n",
    "\n",
    "- C++\n",
    "- C#\n",
    "- Go\n",
    "- Java\n",
    "- JavaScript\n",
    "- Julia\n",
    "- Matlab\n",
    "- Python\n",
    "- R\n",
    "- Ruby\n",
    "- Rust\n",
    "- Swift\n",
    "\n",
    "The implementation for Python is called PyArrow and can be found on PyPI [here](https://pypi.org/project/pyarrow/).\n",
    "\n",
    "PyArrow provides a Python API for functionality provided by the Arrow C++ libraries, along with tools for Arrow integration and interoperability with pandas, NumPy, and other software in the Python ecosystem.\n",
    "\n",
    "It is written in Python, Cython and C++.\n",
    "\n",
    "Pyarrow is currently provided as a single wheel on PyPI but can be installed on conda-forge as:\n",
    "- pyarrow-core (only libarrow functionality)\n",
    "- pyarrow (pyarrow-base + acero + dataset + substrait + parquet)\n",
    "- pyarrow-all (pyarrow + flight + flight-sql + gandiva)\n",
    "\n",
    "![image info](./diagrams/libarrow_package_dependency.jpg)"
   ]
  },
  {
   "cell_type": "markdown",
   "id": "8f67399c-0b76-4934-89d5-5c1e773ba0c7",
   "metadata": {},
   "source": [
    "## NanoArrow\n",
    "\n",
    "The Arrow libraries are growing with a lot of functionality and nanoarrow was born to solve the problem where linking to the Arrow implementation is difficult or impossible\n",
    "\n",
    "The [NanoArrow library](https://github.com/apache/arrow-nanoarrow) is a set of helper functions to interpret and generate [Arrow C Data Interface](https://arrow.apache.org/docs/format/CDataInterface.html), [Arrow C Stream Interface](https://arrow.apache.org/docs/format/CStreamInterface.html) and [Arrow C Device Interface](https://arrow.apache.org/docs/format/CDeviceDataInterface.html) structures. The library is in active development.\n",
    "\n",
    "The NanoArrow Python bindings are intended to support clients that wish to produce or interpret Arrow C Data and/or Arrow C Stream structures in Python, without a dependency on the larger PyArrow package."
   ]
  },
  {
   "cell_type": "markdown",
   "id": "81ae00fc-d8f2-482f-afb4-2d5a93e9c16d",
   "metadata": {},
   "source": [
    "# Arrow Columnar Format\n",
    "\n",
    "\n",
    "## Why does Arrow use a Columnar in-memory format?\n",
    "\n",
    "Data can be represented in memory or stored using a Row based format or a Column based format.\n",
    "\n",
    "![image info](./diagrams/table.svg)\n",
    "\n",
    "### Row format\n",
    "\n",
    "Traditionally, in order to read the following data into memory you would have some kind of structure representing the following rows:\n",
    "\n",
    "![image info](./diagrams/row_format.svg)\n",
    "\n",
    "\n",
    "That means that you have all the information for every row together in memory. This is great for transactional Transactional Databases ([OLTP](https://en.wikipedia.org/wiki/Online_transaction_processing)) and if you want to access all the data information for a row every time.\n",
    "\n",
    "### Columnar format\n",
    "\n",
    "If we have a much bigger table and we just want, for example the average cost of transaction skipping all the data that is irrelevant to do that computation would be costly. That's why storage and memory representation for Columnar format is important.\n",
    "\n",
    "![image info](./diagrams/column_format.svg)\n",
    "\n",
    "Modern Analytical Processing Databases ([OLAP](https://en.wikipedia.org/wiki/Online_analytical_processing)) typically use a columnar format to easily perform computations and analysis over the data types.\n",
    "\n",
    "A columnar format keeps the data organised by column instead of by row. Analytical operations like filtering, grouping, aggregations and others are much more efficient. CPU can maintain [memory locality](https://en.wikipedia.org/wiki/Locality_of_reference#Types%20of%20locality) and require less memory jumps to process the data. By keeping the data contiguous in memory it also enables vectorization of the computations. Most modern CPUs have single instructions, multiple data ([SIMD](https://en.wikipedia.org/wiki/Single_instruction,_multiple_data)) enabling parallel processing and execution of instructions on vector data in single CPU instructions.\n",
    "\n",
    "![image info](./diagrams/sisd-vs-simd.svg)\n",
    "\n",
    "Compression is another element where columnar format representation can take high advantage. Data similarity allows for better compression techniques and algorithms. Having the same data types locality close allows us to have better compression ratios.\n"
   ]
  }
 ],
 "metadata": {
  "kernelspec": {
   "display_name": "Python 3 (ipykernel)",
   "language": "python",
   "name": "python3"
  },
  "language_info": {
   "codemirror_mode": {
    "name": "ipython",
    "version": 3
   },
   "file_extension": ".py",
   "mimetype": "text/x-python",
   "name": "python",
   "nbconvert_exporter": "python",
   "pygments_lexer": "ipython3",
   "version": "3.12.3"
  }
 },
 "nbformat": 4,
 "nbformat_minor": 5
}
