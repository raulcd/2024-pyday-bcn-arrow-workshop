{
 "cells": [
  {
   "cell_type": "markdown",
   "id": "b3c830dd-2e03-4535-a4c2-1dfdcda9f854",
   "metadata": {},
   "source": [
    "# Nested layouts\n",
    "\n",
    "* List, List View\n",
    "* Struct\n",
    "* Map\n",
    "* Union\n",
    "\n",
    "In nested types we introduce the concept of **parent** and **child arrays**. They express relationships between physical value arrays in a nested type structure.\n",
    "\n",
    "Nested types depend on one or more other child data types. For instance, List is a nested type (parent) that has one child (the data types of the values in the list)."
   ]
  },
  {
   "cell_type": "markdown",
   "id": "3476be59-5ba6-41b2-bd1e-fb27df817b8c",
   "metadata": {},
   "source": [
    "## List\n",
    "\n",
    "The list type enables values of the same type being stacked together in a sequence of values in each column slot. The layout is similar to binary or string type as it has offsets buffer to define where the sequence of values starts and ends with all the values of the column being stored consecutively in a values child array.\n",
    "\n",
    "![image info](./diagrams/var-list-diagram.svg)"
   ]
  },
  {
   "cell_type": "code",
   "execution_count": null,
   "id": "a9795da9-87c8-4f19-a106-75df05642f0b",
   "metadata": {},
   "outputs": [],
   "source": [
    "import nanoarrow as na\n",
    "import numpy as np\n",
    "import pyarrow as pa"
   ]
  },
  {
   "cell_type": "code",
   "execution_count": null,
   "id": "b2d29822-34b5-456e-8ee2-b9faf43cf965",
   "metadata": {},
   "outputs": [],
   "source": [
    "column_1 = pa.array([[12, -7, 25], None, [0, -127, 127, 50], []],\n",
    "                    type=pa.list_(pa.int8()))\n",
    "column_1"
   ]
  },
  {
   "cell_type": "markdown",
   "id": "5dfc12ec-fcc0-484b-a6e1-9d1810336585",
   "metadata": {},
   "source": [
    "When inspecting a list type column (and all nested data in general) using pyarrow, the `buffers()` method returns all buffers - of the list array itself (validity bitmap buffer and offset buffer) and its child array (validity bitmap buffer and values buffer):"
   ]
  },
  {
   "cell_type": "code",
   "execution_count": null,
   "id": "bd9641f1-34a4-47a7-a1e4-e9958b9ae33a",
   "metadata": {},
   "outputs": [],
   "source": [
    "# Inspecting buffers using PyArrow and buffers() method\n",
    "column_1.buffers()"
   ]
  },
  {
   "cell_type": "code",
   "execution_count": null,
   "id": "b9f97d64-7573-4df8-8b65-5d70d6b6f130",
   "metadata": {},
   "outputs": [],
   "source": [
    "# Inspecting buffers using PyArrow and buffers() method and numpy\n",
    "validity_bitmap_buffer = column_1.buffers()[0]\n",
    "np.unpackbits(np.frombuffer(validity_bitmap_buffer, dtype=\"uint8\"), bitorder=\"little\")"
   ]
  },
  {
   "cell_type": "code",
   "execution_count": null,
   "id": "41a78c82-e82c-4680-b685-d0bc776391e7",
   "metadata": {},
   "outputs": [],
   "source": [
    "offsets_buffer = column_1.buffers()[1]\n",
    "np.frombuffer(offsets_buffer, dtype=\"int32\")"
   ]
  },
  {
   "cell_type": "code",
   "execution_count": null,
   "id": "e6bfa1fe-5622-4a75-87f3-8accccbf5985",
   "metadata": {},
   "outputs": [],
   "source": [
    "values_validity_bitmap_buffer = column_1.buffers()[2]\n",
    "values_validity_bitmap_buffer is None"
   ]
  },
  {
   "cell_type": "code",
   "execution_count": null,
   "id": "074012e9-869a-4f14-aa20-b388c367cd96",
   "metadata": {},
   "outputs": [],
   "source": [
    "values_buffer = column_1.buffers()[3]\n",
    "np.frombuffer(values_buffer, dtype=\"int8\")"
   ]
  },
  {
   "cell_type": "code",
   "execution_count": null,
   "id": "2b96313c-2761-4464-b024-acd0fba1931b",
   "metadata": {},
   "outputs": [],
   "source": [
    "# Inspecting buffers using nanoarrow\n",
    "na_column1 = na.array(column_1)\n",
    "na_column1.inspect()"
   ]
  },
  {
   "cell_type": "markdown",
   "id": "e64b40f4-7712-4565-b539-fe4e24fbda60",
   "metadata": {},
   "source": [
    "### Exercise\n",
    "\n",
    "Create the following example column, inspect the buffers and look for the difference between this and the previous list type column:\n",
    "\n",
    "<details><summary>Hints</summary>\n",
    "\n",
    "* Do you see any offset buffers?\n",
    "* What is the length of the child array?\n",
    "\n",
    "</details>"
   ]
  },
  {
   "cell_type": "code",
   "execution_count": null,
   "id": "9b99fc1e-a5c0-48e7-8396-d96605686a98",
   "metadata": {},
   "outputs": [],
   "source": [
    "column_1_example = pa.array([[12, -7, 25], None, [50, -127, 127]],\n",
    "                            type=pa.list_(pa.int8(), 3))"
   ]
  },
  {
   "cell_type": "code",
   "execution_count": null,
   "id": "33925df4-3c51-442e-b3de-91301a3d77e5",
   "metadata": {},
   "outputs": [],
   "source": []
  },
  {
   "cell_type": "markdown",
   "id": "7899e621-7e65-4f27-a2d4-bf13c7e232bd",
   "metadata": {},
   "source": [
    "### Fixed size list\n",
    "\n",
    "**Fixed size list** is a special case of variable-size list where each column slot contains a fixed size sequence meaning all lists are the same size and so the offset buffer is no longer needed.\n",
    "\n",
    "![image info](./diagrams/fixed-list-diagram.svg)"
   ]
  },
  {
   "cell_type": "code",
   "execution_count": null,
   "id": "d2108404-2189-4171-b5b4-072934d82b05",
   "metadata": {},
   "outputs": [],
   "source": [
    "column_2 = pa.array([[12, -7], None, [0, None]], type=pa.list_(pa.int16(), 2))\n",
    "na.array(column_2).inspect()"
   ]
  },
  {
   "cell_type": "markdown",
   "id": "bf22e065-2f47-44c6-a560-087eeb4e4b50",
   "metadata": {},
   "source": [
    "### List and large list comparison\n",
    "\n",
    "In a normal list with variable or fixed size the offsets are `int32` while in the **large** list the offsets are `int64`."
   ]
  },
  {
   "cell_type": "code",
   "execution_count": null,
   "id": "07d69fe8-ae15-4e3c-acf9-0cf0b651a5df",
   "metadata": {},
   "outputs": [],
   "source": [
    "column_1 = pa.array([[12, -7, 25], None, [0, -127, 127, 50], []],\n",
    "                    type=pa.list_(pa.int8()))\n",
    "na.array(column_1).inspect()"
   ]
  },
  {
   "cell_type": "code",
   "execution_count": null,
   "id": "9113ae45-3172-4abb-8753-a0ce37033f32",
   "metadata": {},
   "outputs": [],
   "source": [
    "column_1_large = pa.array([[12, -7, 25], None, [0, -127, 127, 50], []],\n",
    "                          type=pa.large_list(pa.int8()))\n",
    "na.array(column_1_large).inspect()"
   ]
  },
  {
   "cell_type": "markdown",
   "id": "37762c7b-572f-43e6-b5e0-f98f8906f36f",
   "metadata": {},
   "source": [
    "### List and large list view\n",
    "\n",
    "List view type allows arrays to specify out-of-order offsets.\n",
    "\n",
    "![image info](./diagrams/var-list-view-diagram.svg)"
   ]
  },
  {
   "cell_type": "code",
   "execution_count": null,
   "id": "db92498d-1cfd-4880-b858-28a7935cc868",
   "metadata": {},
   "outputs": [],
   "source": [
    "column_3 = pa.ListViewArray.from_arrays(offsets=[4, 7, 0, 0, 3],\n",
    "                                        sizes=[3, 0, 4, 0, 2],\n",
    "                                        values=[0, -127, 127, 50, 12, -7, 25],\n",
    "                                        mask=pa.array([False, True, False, False, False]))"
   ]
  },
  {
   "cell_type": "code",
   "execution_count": null,
   "id": "5a1f903b-3437-481a-9858-44cdd58f09ca",
   "metadata": {},
   "outputs": [],
   "source": [
    "buf = column_3.buffers()\n",
    "buf"
   ]
  },
  {
   "cell_type": "code",
   "execution_count": null,
   "id": "54507b22-c651-4bd0-88e2-428018be0452",
   "metadata": {},
   "outputs": [],
   "source": [
    "column_3"
   ]
  },
  {
   "cell_type": "code",
   "execution_count": null,
   "id": "2c922b2d-f5b3-48c4-acb4-b188cef5e14e",
   "metadata": {},
   "outputs": [],
   "source": [
    "# Inspecting buffers using PyArrow and buffers() method and numpy\n",
    "validity_bitmap_buffer = column_3.buffers()[0]\n",
    "np.unpackbits(np.frombuffer(validity_bitmap_buffer, dtype=\"uint8\"), bitorder=\"little\")"
   ]
  },
  {
   "cell_type": "code",
   "execution_count": null,
   "id": "031860e8-d541-430d-a24a-8e4d28fdeb3f",
   "metadata": {},
   "outputs": [],
   "source": [
    "offsets_buffer = column_3.buffers()[1]\n",
    "np.frombuffer(offsets_buffer, dtype=\"int32\")"
   ]
  },
  {
   "cell_type": "code",
   "execution_count": null,
   "id": "5d52f7fc-0126-41e1-8808-f3c142c75299",
   "metadata": {},
   "outputs": [],
   "source": [
    "size_buffer = column_3.buffers()[2]\n",
    "np.frombuffer(size_buffer, dtype=\"int32\")"
   ]
  },
  {
   "cell_type": "code",
   "execution_count": null,
   "id": "5f7f6908-5150-41b7-8846-18ed19c679f2",
   "metadata": {},
   "outputs": [],
   "source": [
    "values_buffer = column_3.buffers()[4]\n",
    "np.frombuffer(values_buffer, dtype=\"int64\")"
   ]
  },
  {
   "cell_type": "markdown",
   "id": "94709ad9-0131-4f88-882b-1a1ba49bc0b6",
   "metadata": {},
   "source": [
    "### Struct\n",
    "\n",
    "A struct is a nested type parameterized by an ordered sequence of types.\n",
    "\n",
    "* one child array for each field\n",
    "* child arrays are independent and need not be adjacent to each other in memory (only need to have the same length)\n",
    "\n",
    "One can think of an individual struct field as a key-value pair where the key is the field name and the child array its values. The field (key) is saved in the schema and the values of a specific field (key) are saved in the child array.\n",
    "\n",
    "![image info](./diagrams/struct-diagram.svg)"
   ]
  },
  {
   "cell_type": "code",
   "execution_count": null,
   "id": "ff0b9f2b-3b37-4afd-9937-fc0c26a5422b",
   "metadata": {},
   "outputs": [],
   "source": [
    "ty = pa.struct([pa.field('x', pa.string()),\n",
    "                pa.field('y', pa.int8())])\n",
    "column_4 = pa.array([{\"x\": \"joe\", \"y\": 1},\n",
    "                     {\"x\": None, \"y\": 2}, None,\n",
    "                     {\"x\": \"mark\", \"y\": 4},\n",
    "                     {\"x\": \"jane\", \"y\": None}],\n",
    "                    type=ty)\n",
    "column_4"
   ]
  },
  {
   "cell_type": "code",
   "execution_count": null,
   "id": "ab22e683-5b10-4c48-b12c-b4911da19657",
   "metadata": {},
   "outputs": [],
   "source": [
    "column_4.type"
   ]
  },
  {
   "cell_type": "code",
   "execution_count": null,
   "id": "d2e517af-14c9-4b8e-a841-13cae8531630",
   "metadata": {},
   "outputs": [],
   "source": [
    "column_4.buffers()"
   ]
  },
  {
   "cell_type": "code",
   "execution_count": null,
   "id": "c77b7fe8-41a0-4e6e-bed7-e710cf87c4e0",
   "metadata": {},
   "outputs": [],
   "source": [
    "na.array(column_4).inspect()"
   ]
  },
  {
   "cell_type": "markdown",
   "id": "f9cb8d05-d712-41fc-a7c1-d2b3c001d553",
   "metadata": {},
   "source": [
    "### Exercise\n",
    "\n",
    "Create the following nested example column. How many buffers does the example have? Try to determine the number first before inspecting the buffers using pyarrow or nanoarrow.\n",
    "\n",
    "<details><summary>Hints</summary>\n",
    "\n",
    "* Struct: validity bitmap buffer and a child arrays\n",
    "* List: validity bitmap buffer, offsets buffer and one child array\n",
    "* String: validity bitmap buffer, offsets buffer and data buffer\n",
    "* Fixed size list: validity bitmap buffer and one child array\n",
    "* Uint: validity bitmap buffer and data buffer\n",
    "\n",
    "</details>"
   ]
  },
  {
   "cell_type": "code",
   "execution_count": null,
   "id": "d5e50429-d933-4e1e-9926-f7443e00f035",
   "metadata": {},
   "outputs": [],
   "source": [
    "ty = pa.struct([pa.field('x', pa.list_(pa.string())),\n",
    "                pa.field('y', pa.list_(pa.list_(pa.uint8(), 2)))])\n",
    "nested_example = pa.array([{\"x\": [\"joe\"], \"y\": [[1, 2], [2, 1]]},\n",
    "                           {\"x\": None, \"y\": [[2, 3], None]}, None,\n",
    "                           {\"x\": [\"mark\"], \"y\": [[4, None]]},\n",
    "                           {\"x\": [\"jane\", None], \"y\": None}],\n",
    "                           type=ty)\n",
    "ty"
   ]
  },
  {
   "cell_type": "code",
   "execution_count": null,
   "id": "61d63836-4be0-4b4c-8936-6547d8693af1",
   "metadata": {},
   "outputs": [],
   "source": []
  },
  {
   "cell_type": "code",
   "execution_count": null,
   "id": "36b8da9e-9c60-4748-9c1d-6d46dc7561d2",
   "metadata": {},
   "outputs": [],
   "source": []
  },
  {
   "cell_type": "markdown",
   "id": "4675a368-0793-4866-98bc-63fa4b972aaa",
   "metadata": {},
   "source": [
    "### Map\n",
    "\n",
    "Map type represents nested data where each value is a variable number of key-value pairs. Its physical representation is the same as a list of `{key, value}` structs.\n",
    "\n",
    "The difference between a struct and a map type is that a struct holds the key in the schema therefore needs to be a string, the values are stored in the child arrays, one for each field. There can be multiple keys and therefore multiple child arrays. The map, on the other hand, has one child array holding all the different keys (that thus all need to be of the same type but not necessarily strings) and a second child array holding all the values, those values need to be of the same type (which doesn't have to match the one on the keys).\n",
    "\n",
    "Also, the map stores the struct in a list and needs an offset as the list is variable shape.\n",
    "\n",
    "![image info](./diagrams/map-diagram.svg)"
   ]
  },
  {
   "cell_type": "code",
   "execution_count": null,
   "id": "fb6f1879-a4fa-4e1d-a20c-d8c3adceea62",
   "metadata": {},
   "outputs": [],
   "source": [
    "column_6_data = [{'Dark Knight': 10},\n",
    "                 {'Dark Knight': 8, 'Meet the Parents': 4, 'Superman': 5},\n",
    "                 None,\n",
    "                 {'Meet the Parents': 10, 'Superman': None}]\n",
    "column_6 = pa.array(column_6_data, type=pa.map_(pa.string(), pa.int32()))\n",
    "column_6"
   ]
  },
  {
   "cell_type": "code",
   "execution_count": null,
   "id": "0095f1fb-a073-47cd-a07b-55218152738b",
   "metadata": {},
   "outputs": [],
   "source": [
    "column_6.buffers()"
   ]
  },
  {
   "cell_type": "code",
   "execution_count": null,
   "id": "ad34e932-cee4-4f77-8cc1-a5f03d5650fa",
   "metadata": {},
   "outputs": [],
   "source": [
    "column_6.type"
   ]
  },
  {
   "cell_type": "code",
   "execution_count": null,
   "id": "50b97a76-e25b-4fd7-8f67-706b1a2c85ac",
   "metadata": {},
   "outputs": [],
   "source": [
    "na.array(column_6).inspect()"
   ]
  },
  {
   "cell_type": "markdown",
   "id": "866c5f69-7b48-4a74-9e5b-65ebda89547b",
   "metadata": {},
   "source": [
    "### Comparing the conversion of struct and map to python objects\n",
    "\n",
    "Struct converts to a list of dictionaries:"
   ]
  },
  {
   "cell_type": "code",
   "execution_count": null,
   "id": "fa1891e0-0c31-4b42-a1d2-a9283d4c4c4f",
   "metadata": {},
   "outputs": [],
   "source": [
    "column_4.to_numpy(zero_copy_only=False)"
   ]
  },
  {
   "cell_type": "code",
   "execution_count": null,
   "id": "98fce4c9-3f54-4422-beb5-e4f605625d2c",
   "metadata": {},
   "outputs": [],
   "source": [
    "column_4.to_pylist()"
   ]
  },
  {
   "cell_type": "markdown",
   "id": "fe91ba0d-1627-418a-929e-426b0f1e966d",
   "metadata": {},
   "source": [
    "And map converts to a nested list of tuples by default:"
   ]
  },
  {
   "cell_type": "code",
   "execution_count": null,
   "id": "08d96f5a-9e51-4890-bb4c-9a3545e1ad68",
   "metadata": {},
   "outputs": [],
   "source": [
    "column_6.to_numpy(zero_copy_only=False)"
   ]
  },
  {
   "cell_type": "markdown",
   "id": "c777ed72-c4ce-4359-beec-0f34ee01803c",
   "metadata": {},
   "source": [
    "Or to dictionary with the use of `maps_as_pydicts` keyword:"
   ]
  },
  {
   "cell_type": "code",
   "execution_count": null,
   "id": "73f78dbc-7199-4909-954c-9dac10aa9d71",
   "metadata": {},
   "outputs": [],
   "source": [
    "# maps_as_pydicts can be ‘lossy’ or ‘strict’\n",
    "# This can change the ordering of (key, value) pairs, and will deduplicate multiple keys, resulting in a possible loss of data.\n",
    "\n",
    "# ‘lossy’: warning printed when detected\n",
    "# ‘strict’ exception being raised when deduplicate detected\n",
    "column_6.to_pandas(zero_copy_only=False, maps_as_pydicts=\"lossy\")"
   ]
  },
  {
   "cell_type": "code",
   "execution_count": null,
   "id": "1d717ee7-0b91-44f1-84af-e94e17b50747",
   "metadata": {},
   "outputs": [],
   "source": [
    "column_6.to_pylist()"
   ]
  }
 ],
 "metadata": {
  "kernelspec": {
   "display_name": "Python 3 (ipykernel)",
   "language": "python",
   "name": "python3"
  },
  "language_info": {
   "codemirror_mode": {
    "name": "ipython",
    "version": 3
   },
   "file_extension": ".py",
   "mimetype": "text/x-python",
   "name": "python",
   "nbconvert_exporter": "python",
   "pygments_lexer": "ipython3",
   "version": "3.12.3"
  }
 },
 "nbformat": 4,
 "nbformat_minor": 5
}
